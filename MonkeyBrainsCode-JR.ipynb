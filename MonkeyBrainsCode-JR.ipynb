{
 "cells": [
  {
   "cell_type": "code",
   "execution_count": 2,
   "metadata": {
    "collapsed": true
   },
   "outputs": [],
   "source": [
    "import numpy as np\n",
    "import matplotlib.pyplot as plt\n",
    "import pandas as pd"
   ]
  },
  {
   "cell_type": "code",
   "execution_count": 5,
   "metadata": {
    "collapsed": false
   },
   "outputs": [],
   "source": [
    "starter_sec = pd.read_excel('C:\\\\Users\\\\Ye Rey\\\\Google Drive\\\\\n",
    "Winter2017\\\\BIO419\\\\1.5secondsstartexperiment.xlsx')\n"
   ]
  },
  {
   "cell_type": "code",
   "execution_count": 7,
   "metadata": {
    "collapsed": false
   },
   "outputs": [],
   "source": [
    "pre_anes = pd.read_excel('C:\\\\Users\\\\Ye Rey\\\\Google Drive\\\\\n",
    "Winter2017\\\\BIO419\\\\1.5secpreanesthetics.xlsx')\n"
   ]
  },
  {
   "cell_type": "code",
   "execution_count": 8,
   "metadata": {
    "collapsed": true
   },
   "outputs": [],
   "source": [
    "post_anes = pd.read_excel('C:\\\\Users\\\\Ye Rey\\\\Google Drive\\\\\n",
    "Winter2017\\\\BIO419\\\\1.5secpostanesthetics.xlsx')"
   ]
  },
  {
   "cell_type": "code",
   "execution_count": 9,
   "metadata": {
    "collapsed": true
   },
   "outputs": [],
   "source": [
    "sec_anes = pd.read_excel('C:\\\\Users\\\\Ye Rey\\\\Google Drive\\\\\n",
    "Winter2017\\\\BIO419\\\\1.5secondendexperiment.xlsx')"
   ]
  },
  {
   "cell_type": "code",
   "execution_count": null,
   "metadata": {
    "collapsed": true
   },
   "outputs": [],
   "source": []
  }
 ],
 "metadata": {
  "anaconda-cloud": {},
  "kernelspec": {
   "display_name": "Python [conda root]",
   "language": "python",
   "name": "conda-root-py"
  },
  "language_info": {
   "codemirror_mode": {
    "name": "ipython",
    "version": 3
   },
   "file_extension": ".py",
   "mimetype": "text/x-python",
   "name": "python",
   "nbconvert_exporter": "python",
   "pygments_lexer": "ipython3",
   "version": "3.5.2"
  }
 },
 "nbformat": 4,
 "nbformat_minor": 1
}
