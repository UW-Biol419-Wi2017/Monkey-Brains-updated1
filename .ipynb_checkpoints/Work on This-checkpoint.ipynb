{
 "cells": [
  {
   "cell_type": "code",
   "execution_count": null,
   "metadata": {
    "collapsed": true
   },
   "outputs": [],
   "source": [
    "import pandas as pd\n",
    "import numpy as np\n",
    "import matplotlib.pyplot as plt\n",
    "%matplotlib inline"
   ]
  },
  {
   "cell_type": "code",
   "execution_count": null,
   "metadata": {
    "collapsed": false
   },
   "outputs": [],
   "source": [
    "a = np.arange(0,15,1)\n",
    "print(a)"
   ]
  },
  {
   "cell_type": "code",
   "execution_count": null,
   "metadata": {
    "collapsed": false
   },
   "outputs": [],
   "source": [
    "first_seconds = pd.read_excel(\"C:\\\\Users\\\\cberg\\\\Documents\\\\finalprojectbiol419\\\\1.5secondsstartexperiment.xlsx\")\n",
    "first_seconds\n",
    "\n",
    "# for 1.5 seconds of data"
   ]
  },
  {
   "cell_type": "code",
   "execution_count": null,
   "metadata": {
    "collapsed": false
   },
   "outputs": [],
   "source": [
    "pre_anesthetics = pd.read_excel(\"C:\\\\Users\\\\cberg\\\\Documents\\\\finalprojectbiol419\\\\1.5secpreanesthetics.xlsx\")\n",
    "pre_anesthetics"
   ]
  },
  {
   "cell_type": "code",
   "execution_count": null,
   "metadata": {
    "collapsed": false
   },
   "outputs": [],
   "source": [
    "post_anesthetics = pd.read_excel(\"C:\\\\Users\\\\cberg\\\\Documents\\\\finalprojectbiol419\\\\1.5secpostanesthetics.xlsx\")\n",
    "post_anesthetics"
   ]
  },
  {
   "cell_type": "code",
   "execution_count": null,
   "metadata": {
    "collapsed": false
   },
   "outputs": [],
   "source": [
    "last_seconds = pd.read_excel(\"C:\\\\Users\\\\cberg\\\\Documents\\\\finalprojectbiol419\\\\1.5secondendexperiment.xlsx\")\n",
    "last_seconds"
   ]
  },
  {
   "cell_type": "code",
   "execution_count": null,
   "metadata": {
    "collapsed": false
   },
   "outputs": [],
   "source": [
    "both_sides_of_sedation = pd.read_excel(\"C:\\\\Users\\\\cberg\\\\Documents\\\\finalprojectbiol419\\\\1.5secbeforeandaftersedation.xlsx\")\n",
    "both_sides_of_sedation"
   ]
  },
  {
   "cell_type": "code",
   "execution_count": null,
   "metadata": {
    "collapsed": false
   },
   "outputs": [],
   "source": [
    "plt.plot(first_seconds)\n",
    "\n",
    "plt.xlabel('time in thousandths of a second')\n",
    "plt.ylabel('Charge on electrode')"
   ]
  },
  {
   "cell_type": "code",
   "execution_count": null,
   "metadata": {
    "collapsed": false
   },
   "outputs": [],
   "source": [
    "plt.plot(pre_anesthetics)\n",
    "\n",
    "plt.xlabel('time in thousandths of a second')\n",
    "plt.ylabel('Charge on electrode')"
   ]
  },
  {
   "cell_type": "code",
   "execution_count": null,
   "metadata": {
    "collapsed": false
   },
   "outputs": [],
   "source": [
    "plt.plot(post_anesthetics)\n",
    "\n",
    "plt.xlabel('time in thousandths of a second')\n",
    "plt.ylabel('Charge on electrode')"
   ]
  },
  {
   "cell_type": "code",
   "execution_count": null,
   "metadata": {
    "collapsed": false
   },
   "outputs": [],
   "source": [
    "plt.plot(last_seconds)\n",
    "\n",
    "plt.xlabel('time in thousandths of a second')\n",
    "plt.ylabel('Charge on electrode')"
   ]
  },
  {
   "cell_type": "code",
   "execution_count": null,
   "metadata": {
    "collapsed": false
   },
   "outputs": [],
   "source": [
    "plt.plot(both_sides_of_sedation)\n",
    "\n",
    "plt.xlabel('time in thousandths of a second')\n",
    "plt.ylabel('Charge on electrode')"
   ]
  },
  {
   "cell_type": "code",
   "execution_count": null,
   "metadata": {
    "collapsed": false
   },
   "outputs": [],
   "source": [
    "first_seconds.values\n",
    "\n",
    "A = np.mean(first_seconds.values)\n",
    "print(A)\n",
    "\n",
    "pre_anesthetics.values\n",
    "\n",
    "B = np.mean(pre_anesthetics.values)\n",
    "print(B)\n",
    "\n",
    "C = np.mean(post_anesthetics.values)\n",
    "print(C)\n",
    "\n",
    "D = np.mean(last_seconds.values)\n",
    "print(D)"
   ]
  },
  {
   "cell_type": "code",
   "execution_count": null,
   "metadata": {
    "collapsed": false,
    "scrolled": true
   },
   "outputs": [],
   "source": [
    "first_seconds.iloc[52].values\n",
    "\n",
    "plt.plot(first_seconds.iloc[52].values)\n",
    "\n",
    "plt.xlabel('Different electrodes')\n",
    "plt.ylabel('Charge of each electrode')\n",
    "plt.title('At 52 thousandths of a second')"
   ]
  },
  {
   "cell_type": "code",
   "execution_count": null,
   "metadata": {
    "collapsed": false
   },
   "outputs": [],
   "source": [
    "#https://docs.scipy.org/doc/scipy-0.18.1/reference/tutorial/fftpack.html#two-and-n-dimensional-discrete-fourier-transforms\n",
    "\n",
    "# Take each electrode of the data, do an FFT of the data. See if we can have a clean visualization\n",
    "\n",
    "for column in first_seconds:\n",
    "    print(first_seconds[column])"
   ]
  },
  {
   "cell_type": "code",
   "execution_count": null,
   "metadata": {
    "collapsed": false
   },
   "outputs": [],
   "source": [
    "first_seconds.ix[1,:]"
   ]
  },
  {
   "cell_type": "code",
   "execution_count": null,
   "metadata": {
    "collapsed": false
   },
   "outputs": [],
   "source": [
    "firstelectrode1 = first_seconds.ix[:,1]"
   ]
  },
  {
   "cell_type": "code",
   "execution_count": null,
   "metadata": {
    "collapsed": false
   },
   "outputs": [],
   "source": [
    "plt.plot(firstelectrode1)\n",
    "\n",
    "plt.xlabel('Time in milliseconds')\n",
    "plt.ylabel('Voltage read by electrode')\n",
    "plt.title('Voltage read by electrode every millisecond for 1/128 electrodes at start of experiment')"
   ]
  },
  {
   "cell_type": "code",
   "execution_count": null,
   "metadata": {
    "collapsed": false
   },
   "outputs": [],
   "source": [
    "#electrode1 for preanesthetics\n",
    "\n",
    "secondelectrode1 = pre_anesthetics.ix[:,1]\n",
    "plt.plot(secondelectrode1)\n",
    "plt.xlabel('Time in milliseconds')\n",
    "plt.ylabel('Voltage read by electrode')\n",
    "plt.title('Voltage read by electrode every millisecond for 1/128 electrodes right before sedation')"
   ]
  },
  {
   "cell_type": "code",
   "execution_count": null,
   "metadata": {
    "collapsed": false
   },
   "outputs": [],
   "source": [
    "thirdelectrode1 = post_anesthetics.ix[:,1]\n",
    "plt.plot(thirdelectrode1)\n",
    "plt.xlabel('Time in milliseconds')\n",
    "plt.ylabel('Voltage read by electrode')\n",
    "plt.title('Voltage read by electrode every millisecond for 1/128 electrodes after sedation')"
   ]
  },
  {
   "cell_type": "code",
   "execution_count": null,
   "metadata": {
    "collapsed": true
   },
   "outputs": [],
   "source": []
  },
  {
   "cell_type": "code",
   "execution_count": null,
   "metadata": {
    "collapsed": false
   },
   "outputs": [],
   "source": [
    "fourthelectrode1 = last_seconds.ix[:,1]\n",
    "plt.plot(fourthelectrode1)\n",
    "plt.xlabel('Time in milliseconds')\n",
    "plt.ylabel('Voltage read by electrode')\n",
    "plt.title('Voltage read by electrode every millisecond for 1/128 electrodes at end of experiment')"
   ]
  },
  {
   "cell_type": "code",
   "execution_count": null,
   "metadata": {
    "collapsed": false
   },
   "outputs": [],
   "source": [
    "both_side_sedation = both_sides_of_sedation.ix[:,1]\n",
    "plt.plot(both_side_sedation)\n",
    "plt.xlabel('Time in milliseconds')\n",
    "plt.ylabel('Voltage read by electrode')\n",
    "plt.title('Voltage read by electrode every millisecond for 1/128 electrodes before and after sedation')"
   ]
  },
  {
   "cell_type": "code",
   "execution_count": null,
   "metadata": {
    "collapsed": false
   },
   "outputs": [],
   "source": [
    "for column in first_seconds:\n",
    "    plt.plot(first_seconds)\n",
    "    plt.xlabel('Time in milliseconds')\n",
    "    plt.ylabel('Voltage read by electrode')\n",
    "    plt.title('Voltage read by every electrode')"
   ]
  },
  {
   "cell_type": "code",
   "execution_count": null,
   "metadata": {
    "collapsed": false
   },
   "outputs": [],
   "source": [
    "from scipy.fftpack import fft, ifft\n",
    "\n",
    "y = np.fft.fft(firstelectrode1)\n",
    "freq = np.fft.fftfreq(first_seconds.size, 1/1000)\n",
    "print(y)"
   ]
  },
  {
   "cell_type": "code",
   "execution_count": null,
   "metadata": {
    "collapsed": false
   },
   "outputs": [],
   "source": [
    "#plt.plot(freq, np.abs(y))\n",
    "\n",
    "plt.plot(np.abs(y))\n",
    "plt.xlim(0,40)\n",
    "plt.xlabel('Frequency of data')\n",
    "plt.ylabel('Power of the frequencies in the data')\n",
    "plt.title('FFT of Electrode #1 in terms of Frequency')"
   ]
  },
  {
   "cell_type": "code",
   "execution_count": null,
   "metadata": {
    "collapsed": false
   },
   "outputs": [],
   "source": [
    "plt.plot(np.abs(y))\n",
    "plt.xlim(1400,1500)\n",
    "\n",
    "plt.xlabel('Frequency of data')\n",
    "plt.ylabel('Power of the frequencies in the data')\n",
    "plt.title('FFT of Electrode #1 in terms of Frequency')"
   ]
  },
  {
   "cell_type": "code",
   "execution_count": null,
   "metadata": {
    "collapsed": false
   },
   "outputs": [],
   "source": [
    "a = np.fft.fft(both_side_sedation)\n",
    "freq = np.fft.fftfreq(both_side_sedation.size, 1/1000)\n",
    "print(a)"
   ]
  },
  {
   "cell_type": "code",
   "execution_count": null,
   "metadata": {
    "collapsed": false
   },
   "outputs": [],
   "source": [
    "plt.plot(np.abs(a))\n",
    "plt.xlim(0,80)"
   ]
  },
  {
   "cell_type": "code",
   "execution_count": null,
   "metadata": {
    "collapsed": false
   },
   "outputs": [],
   "source": [
    "plt.plot(np.abs(a))\n",
    "plt.xlim(2900,3000)"
   ]
  },
  {
   "cell_type": "code",
   "execution_count": null,
   "metadata": {
    "collapsed": true
   },
   "outputs": [],
   "source": [
    "for_cooper = pd.read_excel(\"C:\\\\Users\\\\cberg\\\\Documents\\\\finalprojectbiol419\\\\for cooper.xlsx\")\n",
    "for_cooper"
   ]
  },
  {
   "cell_type": "code",
   "execution_count": null,
   "metadata": {
    "collapsed": true
   },
   "outputs": [],
   "source": []
  }
 ],
 "metadata": {
  "kernelspec": {
   "display_name": "Python 3",
   "language": "python",
   "name": "python3"
  },
  "language_info": {
   "codemirror_mode": {
    "name": "ipython",
    "version": 3
   },
   "file_extension": ".py",
   "mimetype": "text/x-python",
   "name": "python",
   "nbconvert_exporter": "python",
   "pygments_lexer": "ipython3",
   "version": "3.6.0"
  }
 },
 "nbformat": 4,
 "nbformat_minor": 2
}
